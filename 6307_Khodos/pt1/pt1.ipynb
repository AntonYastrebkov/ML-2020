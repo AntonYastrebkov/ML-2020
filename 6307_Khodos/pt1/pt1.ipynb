{
 "cells": [
  {
   "cell_type": "code",
   "execution_count": 1,
   "metadata": {
    "pycharm": {
     "name": "#%%\n"
    }
   },
   "outputs": [],
   "source": [
    "import numpy as np\n",
    "import matplotlib.pyplot as plt\n",
    "from scipy import stats"
   ]
  },
  {
   "cell_type": "code",
   "execution_count": 2,
   "metadata": {},
   "outputs": [],
   "source": [
    "# 1. Предположим X и Y две случайные переменные отражающие возраст и вес, соответственно. \n",
    "#    Рассмотрим случайную выборку из 20 наблюдений\n",
    "X = [69, 74, 68, 70, 72, 67, 66, 70, 76, 68, 72, 79, 74, 67, 66, 71, 74, 75, 75, 76]\n",
    "Y = [53, 175, 155, 135, 172, 150, 115, 137, 200, 130, 140, 265, 185, 112, 140, 150, 165, 185, 210, 220]"
   ]
  },
  {
   "cell_type": "code",
   "execution_count": 3,
   "metadata": {},
   "outputs": [
    {
     "data": {
      "text/plain": [
       "(71.45, 71.5, 74)"
      ]
     },
     "execution_count": 3,
     "metadata": {},
     "output_type": "execute_result"
    }
   ],
   "source": [
    "# A. Найти среднее, медиану и моду величины X\n",
    "np.mean(X), np.median(X), *stats.mode(X)[0]"
   ]
  },
  {
   "cell_type": "code",
   "execution_count": 4,
   "metadata": {
    "pycharm": {
     "name": "#%%\n"
    }
   },
   "outputs": [
    {
     "data": {
      "text/plain": [
       "1961.2100000000003"
      ]
     },
     "execution_count": 4,
     "metadata": {},
     "output_type": "execute_result"
    }
   ],
   "source": [
    "# B. Найти дисперсию Y\n",
    "np.var(Y)"
   ]
  },
  {
   "cell_type": "code",
   "execution_count": 26,
   "metadata": {},
   "outputs": [
    {
     "data": {
      "image/png": "[encoded data removed]",
      "text/plain": [
       "<Figure size 432x288 with 1 Axes>"
      ]
     },
     "metadata": {
      "needs_background": "light"
     },
     "output_type": "display_data"
    }
   ],
   "source": [
    "#C. Построить график нормального распределения для X\n",
    "ls = np.linspace(50, 100)\n",
    "plt.plot(ls, stats.norm.pdf(ls, np.mean(X), np.std(X)))\n",
    "plt.show()"
   ]
  },
  {
   "cell_type": "code",
   "execution_count": 25,
   "metadata": {
    "pycharm": {
     "name": "#%%\n"
    }
   },
   "outputs": [
    {
     "data": {
      "text/plain": [
       "0.020000000000000018"
      ]
     },
     "execution_count": 25,
     "metadata": {},
     "output_type": "execute_result"
    }
   ],
   "source": [
    "#D. Найти вероятность того, что возраст больше 80\n",
    "z = (80 - np.mean(X)) / np.std(X)\n",
    "S_0_z = 0.48 # по таблице при z = 2.3\n",
    "P = 0.5 - S_0_z\n",
    "P"
   ]
  },
  {
   "cell_type": "code",
   "execution_count": 18,
   "metadata": {
    "pycharm": {
     "name": "#%%\n"
    }
   },
   "outputs": [
    {
     "data": {
      "text/plain": [
       "[71.45, 159.7]"
      ]
     },
     "execution_count": 18,
     "metadata": {},
     "output_type": "execute_result"
    }
   ],
   "source": [
    "#E. Найти двумерное мат. ожидание\n",
    "[np.mean(X), np.mean(Y)]"
   ]
  },
  {
   "cell_type": "code",
   "execution_count": 8,
   "metadata": {
    "pycharm": {
     "name": "#%%\n"
    }
   },
   "outputs": [
    {
     "data": {
      "text/plain": [
       "array([[  14.57631579,  141.77368421],\n",
       "       [ 141.77368421, 2064.43157895]])"
      ]
     },
     "execution_count": 8,
     "metadata": {},
     "output_type": "execute_result"
    }
   ],
   "source": [
    "# и ковариационную матрицу для этих двух величин\n",
    "np.cov(X, Y)\n"
   ]
  },
  {
   "cell_type": "code",
   "execution_count": 9,
   "metadata": {
    "pycharm": {
     "name": "#%%\n"
    }
   },
   "outputs": [
    {
     "data": {
      "text/plain": [
       "0.8172811723193554"
      ]
     },
     "execution_count": 9,
     "metadata": {},
     "output_type": "execute_result"
    }
   ],
   "source": [
    "# F. Определить корреляцию между X и Y\n",
    "np.corrcoef(X, Y)[0, 1]"
   ]
  },
  {
   "cell_type": "code",
   "execution_count": 10,
   "metadata": {
    "scrolled": false
   },
   "outputs": [
    {
     "data": {
      "image/png": "[encoded data removed]",
      "text/plain": [
       "<Figure size 432x288 with 1 Axes>"
      ]
     },
     "metadata": {
      "needs_background": "light"
     },
     "output_type": "display_data"
    }
   ],
   "source": [
    "# G. Построить диаграмму рассеяния, отображающая зависимость между возрастом и весом\n",
    "plt.scatter(X, Y)\n",
    "plt.show()"
   ]
  },
  {
   "cell_type": "code",
   "execution_count": 11,
   "metadata": {},
   "outputs": [],
   "source": [
    "# 2. Для следующего набора данных\n",
    "m = [[17, 17, 12],\n",
    "     [11, 9, 13],\n",
    "     [11, 8, 19]]"
   ]
  },
  {
   "cell_type": "code",
   "execution_count": 12,
   "metadata": {},
   "outputs": [
    {
     "data": {
      "text/plain": [
       "array([[  8.33333333,  -5.        , -15.83333333],\n",
       "       [ -5.        ,   4.        ,  11.        ],\n",
       "       [-15.83333333,  11.        ,  32.33333333]])"
      ]
     },
     "execution_count": 12,
     "metadata": {},
     "output_type": "execute_result"
    }
   ],
   "source": [
    "# рассчитайте ковариационную матрицу\n",
    "cov_m = np.cov(m)\n",
    "cov_m"
   ]
  },
  {
   "cell_type": "code",
   "execution_count": 27,
   "metadata": {},
   "outputs": [
    {
     "data": {
      "text/plain": [
       "2.2204460492503156e-14"
      ]
     },
     "execution_count": 27,
     "metadata": {},
     "output_type": "execute_result"
    }
   ],
   "source": [
    "# и обобщенную дисперсию\n",
    "np.linalg.det(cov_m)"
   ]
  },
  {
   "cell_type": "code",
   "execution_count": 14,
   "metadata": {},
   "outputs": [],
   "source": [
    "# 3. Даны два одномерных нормальных распределения Na и Nb с мат. ожиданиями 4, 8 и СКО 1, 2 соответственно.\n",
    "Na = stats.norm(4, 1)\n",
    "Nb = stats.norm(8, 2)"
   ]
  },
  {
   "cell_type": "code",
   "execution_count": 15,
   "metadata": {},
   "outputs": [
    {
     "data": {
      "text/plain": [
       "['Na', 'Nb', 'Nb']"
      ]
     },
     "execution_count": 15,
     "metadata": {},
     "output_type": "execute_result"
    }
   ],
   "source": [
    "# A. Для каждого из значения {5,6,7} определите какое из распределений сгенерировало значение с большей вероятностью.\n",
    "data = [5, 6, 7]\n",
    "Pa = Na.pdf(data)\n",
    "Pb = Nb.pdf(data)\n",
    "['Na' if difP > 0 else 'Nb' for difP in Pa - Pb]"
   ]
  },
  {
   "cell_type": "code",
   "execution_count": 16,
   "metadata": {},
   "outputs": [
    {
     "data": {
      "image/png": "[encoded data removed]",
      "text/plain": [
       "<Figure size 432x288 with 1 Axes>"
      ]
     },
     "metadata": {
      "needs_background": "light"
     },
     "output_type": "display_data"
    }
   ],
   "source": [
    "#B. Найди значение, которой могло быть сгенерировано обеими распределениями с равной вероятностью\n",
    "#   1) График - пересечение\n",
    "ls = np.linspace(-5, 20)\n",
    "plt.plot(ls, Na.pdf(ls))\n",
    "plt.plot(ls, Nb.pdf(ls))\n",
    "plt.show()"
   ]
  },
  {
   "cell_type": "code",
   "execution_count": 28,
   "metadata": {
    "pycharm": {
     "name": "#%%\n"
    }
   },
   "outputs": [
    {
     "data": {
      "text/plain": [
       "[5.656565656565657]"
      ]
     },
     "execution_count": 28,
     "metadata": {},
     "output_type": "execute_result"
    }
   ],
   "source": [
    "# 2) Нахождение\n",
    "ls = np.linspace(5, 6, 100)\n",
    "Pa = Na.pdf(ls)\n",
    "Pb = Nb.pdf(ls)\n",
    "[ls[i] for i in range(len(Pa)) if abs(Pa[i] - Pb[i]) <= 0.001]"
   ]
  }
 ],
 "metadata": {
  "kernelspec": {
   "display_name": "Python 3",
   "language": "python",
   "name": "python3"
  },
  "language_info": {
   "codemirror_mode": {
    "name": "ipython",
    "version": 3
   },
   "file_extension": ".py",
   "mimetype": "text/x-python",
   "name": "python",
   "nbconvert_exporter": "python",
   "pygments_lexer": "ipython3",
   "version": "3.8.5"
  }
 },
 "nbformat": 4,
 "nbformat_minor": 1
}